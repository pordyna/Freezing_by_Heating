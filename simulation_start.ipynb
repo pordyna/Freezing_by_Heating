{
 "cells": [
  {
   "cell_type": "code",
   "execution_count": 2,
   "metadata": {},
   "outputs": [],
   "source": [
    "from freezing_by_heating import SimulationStraightCorridor, _particle_particle_interaction, _jacobian\n",
    "import numpy as np\n",
    "from math import sqrt\n",
    "import time\n",
    "import matplotlib.pyplot as plt\n",
    "import pickle\n",
    "%matplotlib qt "
   ]
  },
  {
   "cell_type": "code",
   "execution_count": 3,
   "metadata": {},
   "outputs": [],
   "source": [
    "with open('testsim', 'rb') as file:\n",
    "    sim_prep_2 = pickle.load(file)"
   ]
  },
  {
   "cell_type": "code",
   "execution_count": 26,
   "metadata": {},
   "outputs": [
    {
     "name": "stdout",
     "output_type": "stream",
     "text": [
      "finished. Applying boundary conditions now.\n",
      "--- 58.19740009307861 seconds ---\n"
     ]
    }
   ],
   "source": [
    "# easy calculation, good for showing basic concept. 2 or 3 lanes\n",
    "\n",
    "sim_prep_2 = SimulationStraightCorridor(n_positive=20,\n",
    "                                 desired_speed=2,\n",
    "                                 relaxation_time=0.1,\n",
    "                                 noise_variance=0.2,\n",
    "                                 noise_variance_drunk=1000,\n",
    "                                 param_factor= 0.2,\n",
    "                                 param_exponent=1.7,\n",
    "                                 core_diameter=1,\n",
    "                                 particle_mass=1,\n",
    "                                 in_core_force=3000,\n",
    "                                 param_epsilon = 0.1,\n",
    "                                 n_drunk_positive= 0,\n",
    "                                 n_drunk_negative=0,\n",
    "                                 corridor_width=5,\n",
    "                                 corridor_length=25,\n",
    "                                 initial_state = None,\n",
    "                                 state_preparation = False\n",
    "                                )\n",
    "\n",
    "\n",
    "\n",
    "start_time = time.time()\n",
    "\n",
    "sim_prep_2.run_simulation((-0.5, 60),method='LSODA', t_eval = np.linspace(0, 60, 60*25), atol = 0.01, noise_step = 0.5)#'LSODA')\n",
    "\n",
    "print(\"--- %s seconds ---\" % (time.time() - start_time))"
   ]
  },
  {
   "cell_type": "code",
   "execution_count": 5,
   "metadata": {},
   "outputs": [],
   "source": [
    "sim_prep_2.save_simulation_data('testsim')"
   ]
  },
  {
   "cell_type": "code",
   "execution_count": null,
   "metadata": {},
   "outputs": [],
   "source": [
    "sim_prep_2.calculate_total_energies()"
   ]
  },
  {
   "cell_type": "code",
   "execution_count": null,
   "metadata": {},
   "outputs": [],
   "source": [
    "sim_prep_2.total_energies"
   ]
  },
  {
   "cell_type": "code",
   "execution_count": 14,
   "metadata": {},
   "outputs": [
    {
     "data": {
      "text/plain": [
       "40.0"
      ]
     },
     "execution_count": 14,
     "metadata": {},
     "output_type": "execute_result"
    }
   ],
   "source": [
    "1000/25 "
   ]
  },
  {
   "cell_type": "code",
   "execution_count": 12,
   "metadata": {},
   "outputs": [],
   "source": [
    "%matplotlib qt "
   ]
  },
  {
   "cell_type": "code",
   "execution_count": 27,
   "metadata": {},
   "outputs": [],
   "source": [
    "sim_prep_2.animate(40)"
   ]
  },
  {
   "cell_type": "code",
   "execution_count": 28,
   "metadata": {},
   "outputs": [],
   "source": [
    "sim_prep_2.save_animation('movie.mp4', fps=25) "
   ]
  },
  {
   "cell_type": "code",
   "execution_count": null,
   "metadata": {},
   "outputs": [],
   "source": [
    "print(sim_prep_2.noise[:,-sim_prep_2.n_drunk_negative,:])"
   ]
  },
  {
   "cell_type": "code",
   "execution_count": null,
   "metadata": {},
   "outputs": [],
   "source": [
    "sim_prep_2.random_dist_drunk.rvs(10000, 100)\n"
   ]
  },
  {
   "cell_type": "code",
   "execution_count": null,
   "metadata": {},
   "outputs": [],
   "source": [
    "x = np.linspace(-10, 10, 10000)\n",
    "\n",
    "plt.plot(x, sim_prep_2.random_dist.pdf(x))"
   ]
  },
  {
   "cell_type": "code",
   "execution_count": null,
   "metadata": {},
   "outputs": [],
   "source": [
    "a= np.arange(10)"
   ]
  },
  {
   "cell_type": "code",
   "execution_count": null,
   "metadata": {},
   "outputs": [],
   "source": [
    "a[-2:3:]"
   ]
  },
  {
   "cell_type": "code",
   "execution_count": null,
   "metadata": {},
   "outputs": [],
   "source": []
  }
 ],
 "metadata": {
  "kernelspec": {
   "display_name": "Python 3",
   "language": "python",
   "name": "python3"
  },
  "language_info": {
   "codemirror_mode": {
    "name": "ipython",
    "version": 3
   },
   "file_extension": ".py",
   "mimetype": "text/x-python",
   "name": "python",
   "nbconvert_exporter": "python",
   "pygments_lexer": "ipython3",
   "version": "3.7.3"
  }
 },
 "nbformat": 4,
 "nbformat_minor": 2
}
