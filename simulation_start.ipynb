{
 "cells": [
  {
   "cell_type": "code",
   "execution_count": 1,
   "metadata": {},
   "outputs": [],
   "source": [
    "from freezing_by_heating import SimulationStraightCorridor, _particle_particle_interaction, _jacobian\n",
    "import numpy as np\n",
    "from math import sqrt\n",
    "import time\n",
    "import matplotlib.pyplot as plt\n",
    "%matplotlib qt "
   ]
  },
  {
   "cell_type": "code",
   "execution_count": 2,
   "metadata": {},
   "outputs": [
    {
     "name": "stdout",
     "output_type": "stream",
     "text": [
      "finished. Applying boundary conditions now.\n",
      "--- 35.60411524772644 seconds ---\n"
     ]
    }
   ],
   "source": [
    "# easy calculation, good for showing basic concept. 2 or 3 lanes\n",
    "\n",
    "sim_prep_2 = SimulationStraightCorridor(n_positive=20,\n",
    "                                 desired_speed=1,\n",
    "                                 relaxation_time=0.075,\n",
    "                                 noise_variance=1,\n",
    "                                 noise_variance_drunk=1000,\n",
    "                                 param_factor= 0.2,\n",
    "                                 param_exponent=2,\n",
    "                                 core_diameter=1,\n",
    "                                 particle_mass=1,\n",
    "                                 in_core_force=3000,\n",
    "                                 param_epsilon = 0.1,\n",
    "                                 n_drunk_positive= 2,\n",
    "                                 n_drunk_negative=1,\n",
    "                                 corridor_width=10,\n",
    "                                 corridor_length=25,\n",
    "                                 initial_state = None,\n",
    "                                 state_preparation = False\n",
    "                                )\n",
    "\n",
    "\n",
    "\n",
    "start_time = time.time()\n",
    "\n",
    "sim_prep_2.run_simulation((-0.5, 30),method='LSODA', t_eval = np.linspace(0, 30, 300), atol = 0.01, noise_step = 0.5)#'LSODA')\n",
    "\n",
    "print(\"--- %s seconds ---\" % (time.time() - start_time))"
   ]
  },
  {
   "cell_type": "code",
   "execution_count": null,
   "metadata": {},
   "outputs": [],
   "source": [
    "sim_prep_2.calculate_total_energies()"
   ]
  },
  {
   "cell_type": "code",
   "execution_count": null,
   "metadata": {},
   "outputs": [],
   "source": [
    "sim_prep_2.total_energies"
   ]
  },
  {
   "cell_type": "code",
   "execution_count": 4,
   "metadata": {},
   "outputs": [],
   "source": [
    "%matplotlib qt "
   ]
  },
  {
   "cell_type": "code",
   "execution_count": 5,
   "metadata": {},
   "outputs": [
    {
     "data": {
      "text/plain": [
       "(<Figure size 1280x670 with 1 Axes>,\n",
       " <matplotlib.axes._subplots.AxesSubplot at 0x7fe6850a5278>)"
      ]
     },
     "execution_count": 5,
     "metadata": {},
     "output_type": "execute_result"
    }
   ],
   "source": [
    "sim_prep_2.animate(100)"
   ]
  },
  {
   "cell_type": "code",
   "execution_count": null,
   "metadata": {},
   "outputs": [],
   "source": [
    "print(sim_prep_2.noise[:,-sim_prep_2.n_drunk_negative,:])"
   ]
  },
  {
   "cell_type": "code",
   "execution_count": null,
   "metadata": {},
   "outputs": [],
   "source": [
    "sim_prep_2.random_dist_drunk.rvs(10000, 100)\n"
   ]
  },
  {
   "cell_type": "code",
   "execution_count": null,
   "metadata": {},
   "outputs": [],
   "source": [
    "x = np.linspace(-10, 10, 10000)\n",
    "\n",
    "plt.plot(x, sim_prep_2.random_dist.pdf(x))"
   ]
  },
  {
   "cell_type": "code",
   "execution_count": null,
   "metadata": {},
   "outputs": [],
   "source": [
    "a= np.arange(10)"
   ]
  },
  {
   "cell_type": "code",
   "execution_count": null,
   "metadata": {},
   "outputs": [],
   "source": [
    "a[-2:3:]"
   ]
  },
  {
   "cell_type": "code",
   "execution_count": null,
   "metadata": {},
   "outputs": [],
   "source": []
  }
 ],
 "metadata": {
  "kernelspec": {
   "display_name": "Python 3",
   "language": "python",
   "name": "python3"
  },
  "language_info": {
   "codemirror_mode": {
    "name": "ipython",
    "version": 3
   },
   "file_extension": ".py",
   "mimetype": "text/x-python",
   "name": "python",
   "nbconvert_exporter": "python",
   "pygments_lexer": "ipython3",
   "version": "3.7.3"
  }
 },
 "nbformat": 4,
 "nbformat_minor": 2
}
