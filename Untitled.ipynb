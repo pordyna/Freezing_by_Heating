{
 "cells": [
  {
   "cell_type": "code",
   "execution_count": 1,
   "metadata": {
    "ExecuteTime": {
     "end_time": "2019-06-30T02:05:04.099994Z",
     "start_time": "2019-06-30T02:05:03.158948Z"
    }
   },
   "outputs": [],
   "source": [
    "from freezing_by_heating import SimulationStraightCorridor\n",
    "import numpy as np\n",
    "from math import sqrt"
   ]
  },
  {
   "cell_type": "code",
   "execution_count": 4,
   "metadata": {
    "ExecuteTime": {
     "end_time": "2019-06-30T02:06:58.874874Z",
     "start_time": "2019-06-30T02:06:58.764109Z"
    }
   },
   "outputs": [],
   "source": [
    "sim_prep = SimulationStraightCorridor(n_positive=10,\n",
    "                                 desired_speed=0,\n",
    "                                 relaxation_time=0.5,\n",
    "                                 noise_variance=1,\n",
    "                                 max_noise_val=0.1*sqrt(1),\n",
    "                                 param_factor=10,\n",
    "                                 param_exponent=2,\n",
    "                                 core_diameter=1,\n",
    "                                 particle_mass=1,\n",
    "                                 in_core_force=100,\n",
    "                                 exp_width = 1e-4,\n",
    "                                 extra_potential = 1e2,\n",
    "                                 n_drunk_positive=0,\n",
    "                                 n_drunk_negative=0,\n",
    "                                 drunkness=0,\n",
    "                                 corridor_width=5,\n",
    "                                 corridor_length=25,\n",
    "                                 initial_state = None,\n",
    "                                 state_preparation = True\n",
    "                                )"
   ]
  },
  {
   "cell_type": "code",
   "execution_count": null,
   "metadata": {
    "ExecuteTime": {
     "start_time": "2019-06-30T02:06:59.210Z"
    }
   },
   "outputs": [],
   "source": [
    "sim_prep.run_simulation((0, 10), solver='RK45')#'LSODA')"
   ]
  },
  {
   "cell_type": "code",
   "execution_count": 6,
   "metadata": {
    "ExecuteTime": {
     "end_time": "2019-06-30T02:02:47.998821Z",
     "start_time": "2019-06-30T02:02:47.881859Z"
    }
   },
   "outputs": [],
   "source": [
    "%matplotlib qt "
   ]
  },
  {
   "cell_type": "code",
   "execution_count": 7,
   "metadata": {
    "ExecuteTime": {
     "end_time": "2019-06-30T02:03:33.189194Z",
     "start_time": "2019-06-30T02:02:48.455115Z"
    }
   },
   "outputs": [
    {
     "ename": "KeyboardInterrupt",
     "evalue": "",
     "output_type": "error",
     "traceback": [
      "\u001b[0;31m---------------------------------------------------------------------------\u001b[0m",
      "\u001b[0;31mKeyboardInterrupt\u001b[0m                         Traceback (most recent call last)",
      "\u001b[0;32m<ipython-input-7-6a9d12ce8de5>\u001b[0m in \u001b[0;36m<module>\u001b[0;34m\u001b[0m\n\u001b[0;32m----> 1\u001b[0;31m \u001b[0msim_prep\u001b[0m\u001b[0;34m.\u001b[0m\u001b[0manimate\u001b[0m\u001b[0;34m(\u001b[0m\u001b[0;36m1\u001b[0m\u001b[0;34m)\u001b[0m\u001b[0;34m\u001b[0m\u001b[0;34m\u001b[0m\u001b[0m\n\u001b[0m",
      "\u001b[0;32m~/PycharmProjects/Freezing_by_Heating/freezing_by_heating.py\u001b[0m in \u001b[0;36manimate\u001b[0;34m(self, scale)\u001b[0m\n\u001b[1;32m    327\u001b[0m             \u001b[0;32mtry\u001b[0m\u001b[0;34m:\u001b[0m\u001b[0;34m\u001b[0m\u001b[0;34m\u001b[0m\u001b[0m\n\u001b[1;32m    328\u001b[0m                 plt.pause(abs((self.times[ii + 1] - t))\n\u001b[0;32m--> 329\u001b[0;31m                           / scale - (start_time - time.time()))\n\u001b[0m\u001b[1;32m    330\u001b[0m             \u001b[0;32mexcept\u001b[0m \u001b[0mIndexError\u001b[0m\u001b[0;34m:\u001b[0m\u001b[0;34m\u001b[0m\u001b[0;34m\u001b[0m\u001b[0m\n\u001b[1;32m    331\u001b[0m                 \u001b[0;32mpass\u001b[0m\u001b[0;34m\u001b[0m\u001b[0;34m\u001b[0m\u001b[0m\n",
      "\u001b[0;32m~/anaconda3/lib/python3.6/site-packages/matplotlib/pyplot.py\u001b[0m in \u001b[0;36mpause\u001b[0;34m(interval)\u001b[0m\n\u001b[1;32m    296\u001b[0m         \u001b[0mcanvas\u001b[0m\u001b[0;34m.\u001b[0m\u001b[0mstart_event_loop\u001b[0m\u001b[0;34m(\u001b[0m\u001b[0minterval\u001b[0m\u001b[0;34m)\u001b[0m\u001b[0;34m\u001b[0m\u001b[0;34m\u001b[0m\u001b[0m\n\u001b[1;32m    297\u001b[0m     \u001b[0;32melse\u001b[0m\u001b[0;34m:\u001b[0m\u001b[0;34m\u001b[0m\u001b[0;34m\u001b[0m\u001b[0m\n\u001b[0;32m--> 298\u001b[0;31m         \u001b[0mtime\u001b[0m\u001b[0;34m.\u001b[0m\u001b[0msleep\u001b[0m\u001b[0;34m(\u001b[0m\u001b[0minterval\u001b[0m\u001b[0;34m)\u001b[0m\u001b[0;34m\u001b[0m\u001b[0;34m\u001b[0m\u001b[0m\n\u001b[0m\u001b[1;32m    299\u001b[0m \u001b[0;34m\u001b[0m\u001b[0m\n\u001b[1;32m    300\u001b[0m \u001b[0;34m\u001b[0m\u001b[0m\n",
      "\u001b[0;31mKeyboardInterrupt\u001b[0m: "
     ]
    }
   ],
   "source": [
    "sim_prep.animate(1)"
   ]
  },
  {
   "cell_type": "code",
   "execution_count": 14,
   "metadata": {
    "ExecuteTime": {
     "end_time": "2019-06-30T01:32:23.527985Z",
     "start_time": "2019-06-30T01:32:23.266156Z"
    },
    "scrolled": true
   },
   "outputs": [
    {
     "data": {
      "image/png": "[encoded data removed]",
      "text/plain": [
       "<Figure size 432x288 with 1 Axes>"
      ]
     },
     "metadata": {
      "needs_background": "light"
     },
     "output_type": "display_data"
    }
   ],
   "source": [
    "sim.plot_initial_state()\n",
    "np.save( 'initial_state', sim.initial_state)"
   ]
  },
  {
   "cell_type": "code",
   "execution_count": 2,
   "metadata": {
    "ExecuteTime": {
     "end_time": "2019-06-30T01:50:54.293481Z",
     "start_time": "2019-06-30T01:50:54.278185Z"
    }
   },
   "outputs": [],
   "source": [
    "\n",
    "sim = SimulationStraightCorridor(n_positive=10,\n",
    "                                 desired_speed=1.4,\n",
    "                                 relaxation_time=0.2,\n",
    "                                 noise_variance=1,\n",
    "                                 max_noise_val=0.1,\n",
    "                                 param_factor=0.2,\n",
    "                                 param_exponent=2,\n",
    "                                 core_diameter=1,\n",
    "                                 particle_mass=1,\n",
    "                                 in_core_force=1e1,\n",
    "                                 exp_width = 1e-4,\n",
    "                                 extra_potential = 1e2,\n",
    "                                 n_drunk_positive=0,\n",
    "                                 n_drunk_negative=0,\n",
    "                                 drunkness=0,\n",
    "                                 corridor_width=5,\n",
    "                                 corridor_length=20,\n",
    "                                 initial_state = None,\n",
    "                                 state_preparation = False\n",
    "                                )\n"
   ]
  },
  {
   "cell_type": "code",
   "execution_count": 3,
   "metadata": {
    "ExecuteTime": {
     "end_time": "2019-06-30T01:47:52.314084Z",
     "start_time": "2019-06-30T01:47:23.467515Z"
    }
   },
   "outputs": [
    {
     "name": "stdout",
     "output_type": "stream",
     "text": [
      "finished. Applying boundary conditions now.\n",
      " "
     ]
    }
   ],
   "source": [
    "%prun sim.run_simulation((0, 10), solver='RK45')#'LSODA')"
   ]
  },
  {
   "cell_type": "code",
   "execution_count": 51,
   "metadata": {
    "ExecuteTime": {
     "end_time": "2019-06-30T00:29:43.123930Z",
     "start_time": "2019-06-30T00:29:43.111096Z"
    }
   },
   "outputs": [
    {
     "data": {
      "text/plain": [
       "(10130, 0, 0, 844)"
      ]
     },
     "execution_count": 51,
     "metadata": {},
     "output_type": "execute_result"
    }
   ],
   "source": [
    "sim.nfev, sim.njev, sim.nlu, len(sim.times)"
   ]
  },
  {
   "cell_type": "code",
   "execution_count": 22,
   "metadata": {
    "ExecuteTime": {
     "end_time": "2019-06-29T21:27:00.459229Z",
     "start_time": "2019-06-29T21:27:00.454221Z"
    }
   },
   "outputs": [],
   "source": [
    "def force(d, a,b,c):\n",
    "    return a*b*(d-c)**(-b-1)"
   ]
  },
  {
   "cell_type": "code",
   "execution_count": null,
   "metadata": {
    "ExecuteTime": {
     "end_time": "2019-06-29T23:40:34.508112Z",
     "start_time": "2019-06-29T23:40:28.793Z"
    }
   },
   "outputs": [],
   "source": [
    "force(1.1, 0.1, 2, 1), 150/1.4"
   ]
  },
  {
   "cell_type": "code",
   "execution_count": 4,
   "metadata": {
    "ExecuteTime": {
     "end_time": "2019-06-30T01:48:38.796728Z",
     "start_time": "2019-06-30T01:48:38.686050Z"
    }
   },
   "outputs": [],
   "source": [
    "%matplotlib qt "
   ]
  },
  {
   "cell_type": "code",
   "execution_count": null,
   "metadata": {
    "ExecuteTime": {
     "start_time": "2019-06-30T01:48:39.329Z"
    }
   },
   "outputs": [],
   "source": [
    "fig, ax = sim.animate(1)"
   ]
  },
  {
   "cell_type": "code",
   "execution_count": 15,
   "metadata": {
    "ExecuteTime": {
     "end_time": "2019-06-29T21:18:54.674412Z",
     "start_time": "2019-06-29T21:18:54.668877Z"
    }
   },
   "outputs": [],
   "source": [
    "from scipy.stats import truncnorm\n",
    "import numpy as np\n",
    "def convert_truncated_normal(a,b, std, mean=0):\n",
    "    return(a - mean) / std, (b - mean) / std"
   ]
  },
  {
   "cell_type": "code",
   "execution_count": 34,
   "metadata": {
    "ExecuteTime": {
     "end_time": "2019-06-29T18:43:39.781778Z",
     "start_time": "2019-06-29T18:43:39.770000Z"
    }
   },
   "outputs": [
    {
     "data": {
      "text/plain": [
       "(array(0.), array(0.99958223))"
      ]
     },
     "execution_count": 34,
     "metadata": {},
     "output_type": "execute_result"
    }
   ],
   "source": [
    " std = 0.5\n",
    "truncnorm.stats(*convert_truncated_normal(-3* np.sqrt(std),3* np.sqrt(std), std ))"
   ]
  },
  {
   "cell_type": "code",
   "execution_count": 5,
   "metadata": {
    "ExecuteTime": {
     "end_time": "2019-06-29T18:35:05.440437Z",
     "start_time": "2019-06-29T18:35:05.428077Z"
    }
   },
   "outputs": [],
   "source": [
    "truncnorm.stats?"
   ]
  },
  {
   "cell_type": "code",
   "execution_count": null,
   "metadata": {},
   "outputs": [],
   "source": []
  }
 ],
 "metadata": {
  "kernelspec": {
   "display_name": "Python 3",
   "language": "python",
   "name": "python3"
  },
  "language_info": {
   "codemirror_mode": {
    "name": "ipython",
    "version": 3
   },
   "file_extension": ".py",
   "mimetype": "text/x-python",
   "name": "python",
   "nbconvert_exporter": "python",
   "pygments_lexer": "ipython3",
   "version": "3.6.7"
  }
 },
 "nbformat": 4,
 "nbformat_minor": 2
}
